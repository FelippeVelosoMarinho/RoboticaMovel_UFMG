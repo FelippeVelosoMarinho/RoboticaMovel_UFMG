{
  "cells": [
    {
      "cell_type": "code",
      "execution_count": 17,
      "metadata": {
        "colab": {
          "base_uri": "https://localhost:8080/"
        },
        "id": "Ksh13okUsJLZ",
        "outputId": "1b4f367b-32d7-4b17-91c9-424b9c8bacd1"
      },
      "outputs": [],
      "source": [
        "try:\n",
        "    import sim\n",
        "except:\n",
        "    print('Sim error')\n",
        "\n",
        "import time\n",
        "import numpy as np\n",
        "import matplotlib.pyplot as plt\n",
        "import matplotlib.patches as patches\n",
        "import math\n",
        "import numpy"
      ]
    },
    {
      "cell_type": "code",
      "execution_count": 18,
      "metadata": {
        "id": "VjLk2q3HtQZz"
      },
      "outputs": [],
      "source": [
        "def att_force(q, goal, katt= 0.1):\n",
        "  Fatt = katt *(np.array(goal) - np.array(q))\n",
        "  return Fatt"
      ]
    },
    {
      "cell_type": "code",
      "execution_count": 19,
      "metadata": {
        "id": "2T3QgTfauOD7"
      },
      "outputs": [],
      "source": [
        "def rep_force(q, obs, R=1, krep= 0.1):\n",
        "  v = np.array(q) - np.arrray(obs[0:2])\n",
        "  d = np.linalg.norm(v) - obs[2]\n",
        "  #d = d.reshape((len(v),1))\n",
        "  rep = (1/d**2) * ((1/d) - (1/R)) * (v/d)\n",
        "\n",
        "  invalid = np.squeeze(d > R)\n",
        "  rep[invalid, :] = 0\n",
        "\n",
        "  return np.array(krep)*np.array(rep)\n"
      ]
    },
    {
      "cell_type": "code",
      "execution_count": 20,
      "metadata": {
        "id": "XGIzHbZMwxm8"
      },
      "outputs": [],
      "source": [
        "def force(q,goal,laser_data,HWL,posLaser,max_sensor_range = 5):\n",
        "    Frep = [0,0]\n",
        "\n",
        "    for i in range(len(laser_data)):\n",
        "      ang, dist = laser_data[i]\n",
        "      if (max_sensor_range - dist) > 0.1:\n",
        "        x = dist * np.cos(ang)\n",
        "        y = dist * np.sin(ang)\n",
        "\n",
        "        Aux = np.array(HWL@[x,y,posLaser[2],1])\n",
        "        obs = [Aux[0],Aux[1],0.5]\n",
        "        Aux3 = np.array(rep_force(q, obs))\n",
        "      else:\n",
        "        Aux3 = 0\n",
        "      Frep = np.array(Frep) + np.array(Aux3)\n",
        "    Fatt= att_force(q,goal)\n",
        "    Ft = Fatt + Frep\n",
        "    return Ft"
      ]
    },
    {
      "cell_type": "code",
      "execution_count": 21,
      "metadata": {
        "id": "SQHGB-X20HvL"
      },
      "outputs": [],
      "source": [
        "def readSensorData(clientId=-1,\n",
        "                   range_data_signal_id = \"hokuyo_range_data\",\n",
        "                   angle_data_signal_id = \"hokuyo_angle_data\"):\n",
        "    # the first call should be non-blocking to avoid getting out-of-sync angle data\n",
        "  returnCodeRanges, string_range_data = sim.simxGetStringSignal(clientId, range_data_signal_id, sim.simx_opmode_streaming)\n",
        "\n",
        "    # the second call should block to avoid out-of-sync scenarios\n",
        "    # between your python script and the simulator's main loop\n",
        "    # (your script may be slower than the simulator's main loop, thus\n",
        "    # slowing down data processing)\n",
        "  returnCodeAngles, string_angle_data = sim.simxGetStringSignal(clientId, angle_data_signal_id, sim.simx_opmode_blocking)\n",
        "\n",
        "  if returnCodeRanges == 0 and returnCodeAngles == 0:\n",
        "    raw_range_data = sim.simxUnpackFloats(string_range_data)\n",
        "    raw_angle_data = sim.simxUnpackFloats(string_angle_data)\n",
        "\n",
        "    return raw_range_data,raw_angle_data\n",
        "\n",
        "  return None"
      ]
    },
    {
      "cell_type": "code",
      "execution_count": 22,
      "metadata": {
        "id": "liWdicUv4rKP"
      },
      "outputs": [],
      "source": [
        "def Transformacao(robotHandle, LaserHandle, GoalHandle):\n",
        "\n",
        "  returnCode, posRobo = sim.simxGetObjectPosition(clientID,robotHandle,-1, sim.simx_opmode_oneshot_wait)\n",
        "  returnCode, OrientacaoRobo = sim.simxGetObjectPosition(clientID,robotHandle,-1, sim.simx_opmode_oneshot_wait)\n",
        "  returnCode, posLaser = sim.simxGetObjectPosition(clientID,LaserHandle,-1, sim.simx_opmode_oneshot_wait)\n",
        "  returnCode, OrientacaoLaser = sim.simxGetObjectPosition(clientID,LaserHandle,-1, sim.simx_opmode_oneshot_wait)\n",
        "  returnCode, posgoal = sim.simxGetObjectPosition(clientID,GoalHandle,-1, sim.simx_opmode_oneshot_wait)\n",
        "\n",
        "  RWL = [[np.cos(OrientacaoLaser[2]),     -np.sin(OrientacaoLaser[2]),    0],\n",
        "        [np.sin(OrientacaoLaser[2]),      np.cos(OrientacaoLaser[2]),     0],\n",
        "         [ 0,0,1]]\n",
        "\n",
        "  TWL = [posLaser[0],posLaser[1],posLaser[2]]\n",
        "\n",
        "  HWL = np.column_stack((RWL, TWL))\n",
        "\n",
        "  aux = np.array([0,0,0,1])\n",
        "  HWL = np.row_stack((HWL, aux))\n",
        "\n",
        "  return HWL, posRobo, posgoal, OrientacaoRobo[2], posLaser"
      ]
    },
    {
      "cell_type": "code",
      "execution_count": 23,
      "metadata": {
        "id": "19wdw2FG_ZVC"
      },
      "outputs": [],
      "source": [
        "def draw_laser_data2(laser_data,posRobo,posLaser,HWL, max_sensor_range=5):\n",
        "  for i in range(len(laser_data)):\n",
        "      ang, dist = laser_data[i]\n",
        "      if (max_sensor_range - dist) > 0.1:\n",
        "        x = dist * np.cos(ang)\n",
        "        y = dist * np.sin(ang)\n",
        "        c = 'r'\n",
        "        if ang < 0:\n",
        "          c = 'b'\n",
        "        Pw = np.array(HWL@[x,y,posLaser[2],1])\n",
        "        ax2.plot(Pw[0],Pw[1],'o', color=c)\n",
        "  ax2.plot(posRobo[0],posRobo[1],'k>', markersize=10)"
      ]
    },
    {
      "cell_type": "code",
      "execution_count": 24,
      "metadata": {
        "id": "njQRG2NxFinx"
      },
      "outputs": [
        {
          "name": "stdout",
          "output_type": "stream",
          "text": [
            "Program Started\n",
            "Connected to remote API Server\n",
            "Robo ->  38\n"
          ]
        },
        {
          "ename": "KeyboardInterrupt",
          "evalue": "",
          "output_type": "error",
          "traceback": [
            "\u001b[1;31m---------------------------------------------------------------------------\u001b[0m",
            "\u001b[1;31mKeyboardInterrupt\u001b[0m                         Traceback (most recent call last)",
            "Cell \u001b[1;32mIn[24], line 31\u001b[0m\n\u001b[0;32m     29\u001b[0m returnCode \u001b[38;5;241m=\u001b[39m \u001b[38;5;241m1\u001b[39m\n\u001b[0;32m     30\u001b[0m \u001b[38;5;28;01mwhile\u001b[39;00m returnCode \u001b[38;5;241m!=\u001b[39m \u001b[38;5;241m0\u001b[39m:\n\u001b[1;32m---> 31\u001b[0m   returnCode, range_data \u001b[38;5;241m=\u001b[39m sim\u001b[38;5;241m.\u001b[39msimxGetObjectHandle(clientID, laser_range_data, sim\u001b[38;5;241m.\u001b[39msimx_opmode_streaming \u001b[38;5;241m+\u001b[39m \u001b[38;5;241m10\u001b[39m)\n\u001b[0;32m     33\u001b[0m raw_range_data, raw_angle_data \u001b[38;5;241m=\u001b[39m readSensorData(clientID,laser_range_data, laser_angle_data)\n\u001b[0;32m     34\u001b[0m laser_data \u001b[38;5;241m=\u001b[39m np\u001b[38;5;241m.\u001b[39marray([raw_angle_data,raw_range_data])\u001b[38;5;241m.\u001b[39mT\n",
            "File \u001b[1;32mc:\\Users\\felip\\dcc042-robotica-movel\\Tp2\\sim.py:280\u001b[0m, in \u001b[0;36msimxGetObjectHandle\u001b[1;34m(clientID, objectName, operationMode)\u001b[0m\n\u001b[0;32m    278\u001b[0m \u001b[38;5;28;01mif\u001b[39;00m (sys\u001b[38;5;241m.\u001b[39mversion_info[\u001b[38;5;241m0\u001b[39m] \u001b[38;5;241m==\u001b[39m \u001b[38;5;241m3\u001b[39m) \u001b[38;5;129;01mand\u001b[39;00m (\u001b[38;5;28mtype\u001b[39m(objectName) \u001b[38;5;129;01mis\u001b[39;00m \u001b[38;5;28mstr\u001b[39m):\n\u001b[0;32m    279\u001b[0m     objectName\u001b[38;5;241m=\u001b[39mobjectName\u001b[38;5;241m.\u001b[39mencode(\u001b[38;5;124m'\u001b[39m\u001b[38;5;124mutf-8\u001b[39m\u001b[38;5;124m'\u001b[39m)\n\u001b[1;32m--> 280\u001b[0m \u001b[38;5;28;01mreturn\u001b[39;00m c_GetObjectHandle(clientID, objectName, ct\u001b[38;5;241m.\u001b[39mbyref(handle), operationMode), handle\u001b[38;5;241m.\u001b[39mvalue\n",
            "\u001b[1;31mKeyboardInterrupt\u001b[0m: "
          ]
        },
        {
          "data": {
            "image/png": "[encoded data removed]",
            "text/plain": [
              "<Figure size 600x600 with 1 Axes>"
            ]
          },
          "metadata": {},
          "output_type": "display_data"
        }
      ],
      "source": [
        "print('Program Started')\n",
        "sim.simxFinish(-1)\n",
        "# defaults are host='localhost', port=23000)\n",
        "clientID=sim.simxStart('127.0.0.1', 19999,True,True,5000,5)\n",
        "\n",
        "if clientID!=-1:\n",
        "  print('Connected to remote API Server')\n",
        "\n",
        "  robotname = 'Pioneer_p3dx'\n",
        "  returnCode, robotHandle = sim.simxGetObjectHandle(clientID, robotname, sim.simx_opmode_oneshot_wait)\n",
        "  print(\"Robo -> \", robotHandle)\n",
        "\n",
        "  returnCode, l_whell = sim.simxGetObjectHandle(clientID, robotname + '_leftMotor', sim.simx_opmode_oneshot_wait)\n",
        "  returnCode, r_whell = sim.simxGetObjectHandle(clientID, robotname + '_rightMotor', sim.simx_opmode_oneshot_wait)\n",
        "\n",
        "  laser_range_data = \"hokuyo_range_data\"\n",
        "  laser_angle_data = \"hokuyo_angle_data\"\n",
        "\n",
        "  Lasername = 'fastHokuyo'\n",
        "  returnCode, laserHandle = sim.simxGetObjectHandle(clientID, Lasername, sim.simx_opmode_oneshot_wait)\n",
        "\n",
        "  Goalname = 'Floor0'\n",
        "  returnCode, laserHandle = sim.simxGetObjectHandle(clientID, Goalname, sim.simx_opmode_oneshot_wait)\n",
        "\n",
        "  fig = plt.figure(figsize=(6,6), dpi=100)\n",
        "  ax2 = fig.add_subplot(111, aspect='equal')\n",
        "  max_sensor_range=5\n",
        "\n",
        "  returnCode = 1\n",
        "  while returnCode != 0:\n",
        "    returnCode, range_data = sim.simxGetObjectHandle(clientID, laser_range_data, sim.simx_opmode_streaming + 10)\n",
        "\n",
        "  raw_range_data, raw_angle_data = readSensorData(clientID,laser_range_data, laser_angle_data)\n",
        "  laser_data = np.array([raw_angle_data,raw_range_data]).T\n",
        "\n",
        "  Dados = Transformacao(robotHandle,LaserHandle, GoalHandle)\n",
        "\n",
        "  draw_laser_data2(laser_data, Dados[1],Dados[4], Dados[0])\n",
        "\n",
        "  HWL = Dados[0]\n",
        "  posRobo = Dados[1]\n",
        "  posgoal = Dados[2]\n",
        "  OrientacaozRobo = Dados[3]\n",
        "  posLaser = Dados[4]\n",
        "\n",
        "  ax2.grid()\n",
        "  ax2.set_xlim([-max_sensor_range, max_sensor_range])\n",
        "  ax2.set_ylim([-max_sensor_range, max_sensor_range])\n",
        "\n",
        "  L = 0.331\n",
        "  r = 0.09751\n",
        "\n",
        "  following = False\n",
        "\n",
        "  t= 0\n",
        "  startTime = time.time()\n",
        "  lastTime = startTime\n",
        "\n",
        "  maxv = 1\n",
        "  maxw = np.deg2rad(45)\n",
        "\n",
        "  Ft_x = 0\n",
        "  Ft_y = 0\n",
        "\n",
        "  while t < 120:\n",
        "    Dados = Transformacao(robotHandle,LaserHandle, GoalHandle)\n",
        "    raw_range_data, raw_angle_data = readSensorData(clientID,laser_range_data, laser_angle_data)\n",
        "    laser_data = np.array([raw_angle_data,raw_range_data]).T\n",
        "\n",
        "    draw_laser_data2(laser_data, Dados[1],Dados[4], Dados[0])\n",
        "\n",
        "    HWL = Dados[0]\n",
        "    posRobo = Dados[1]\n",
        "    posgoal = Dados[2]\n",
        "    OrientacaozRobo = Dados[3]\n",
        "    posLaser = Dados[4]\n",
        "\n",
        "    ax2.plot(posgoal[0],posgoal[1], 'o', color='g')\n",
        "\n",
        "    ax2.grid()\n",
        "    ax2.set_xlim([-max_sensor_range, max_sensor_range])\n",
        "    ax2.set_ylim([-max_sensor_range, max_sensor_range])\n",
        "\n",
        "    init = [posRobo[0], posRobo[1]]\n",
        "    goal = [posgoal[0], posgoal[1]]\n",
        "\n",
        "    now = time.time()\n",
        "    dt = now - lastTime\n",
        "\n",
        "    v = .4\n",
        "    w = 0\n",
        "\n",
        "    kv = 1\n",
        "    kw = 2\n",
        "\n",
        "    Ft = force(init,goal,laser_data,HWL,posLaser)\n",
        "\n",
        "    Ft_x = Ft[0]\n",
        "    Ft_y = Ft[1]\n",
        "\n",
        "    if((Ft_x + Ft_y) == 0):\n",
        "      Ft_x = +0.1\n",
        "      Ft_y = +0.1\n",
        "\n",
        "    v = (kv * ((Ft_x*(np.cos(laser_ori[2])) + Ft_y*(np.sin(laser_ori[2])))))\n",
        "    w = (kw*((np.arctan2(Ft_y, Ft_x))-laser_ori[2]))\n",
        "    w = (w + np.pi) % (2 * np.pi) - np.pi \n",
        "\n",
        "    # limit v,w to +/- max\n",
        "    v = max(min(v, maxv), -maxv)\n",
        "    w = max(min(w, maxw), -maxw)\n",
        "\n",
        "    # Calcular as velocidades das rodas\n",
        "    vr = (2*v + L*w) / (2*r)\n",
        "    vl = (2*v - L*w) / (2*r)\n",
        "\n",
        "            # Setando as velocidades\n",
        "    sim.setJointTargetVelocity(motorLeft, vl)\n",
        "    sim.setJointTargetVelocity(motorRight, vr)\n",
        "\n",
        "    t = t + dt\n",
        "    lastTime = now\n",
        "\n",
        "else:\n",
        "    print(\"Failed to connect to remote API server\")\n",
        "    print(\"Exiting...\")\n",
        "\n",
        "print(\"Program ended\")\n",
        "\n",
        "\n",
        "print(\"Program ended\")\n"
      ]
    }
  ],
  "metadata": {
    "colab": {
      "provenance": []
    },
    "kernelspec": {
      "display_name": "Python 3",
      "name": "python3"
    },
    "language_info": {
      "codemirror_mode": {
        "name": "ipython",
        "version": 3
      },
      "file_extension": ".py",
      "mimetype": "text/x-python",
      "name": "python",
      "nbconvert_exporter": "python",
      "pygments_lexer": "ipython3",
      "version": "3.11.5"
    }
  },
  "nbformat": 4,
  "nbformat_minor": 0
}
