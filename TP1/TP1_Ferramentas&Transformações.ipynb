{
 "cells": [
  {
   "cell_type": "markdown",
   "id": "74fa1022",
   "metadata": {},
   "source": [
    "### Remote API functions (Python)"
   ]
  },
  {
   "cell_type": "code",
   "execution_count": 8,
   "id": "ad1f6450",
   "metadata": {},
   "outputs": [
    {
     "name": "stdout",
     "output_type": "stream",
     "text": [
      "--------------------------------------------------------------\n",
      "\"sim.py\" could not be imported. This means very probably that\n",
      "either \"sim.py\" or the remoteApi library could not be found.\n",
      "Make sure both are in the same folder as this file,\n",
      "or appropriately adjust the file \"sim.py\"\n",
      "--------------------------------------------------------------\n",
      "\n"
     ]
    }
   ],
   "source": [
    "try:\n",
    "    import sim\n",
    "except:\n",
    "    print ('--------------------------------------------------------------')\n",
    "    print ('\"sim.py\" could not be imported. This means very probably that')\n",
    "    print ('either \"sim.py\" or the remoteApi library could not be found.')\n",
    "    print ('Make sure both are in the same folder as this file,')\n",
    "    print ('or appropriately adjust the file \"sim.py\"')\n",
    "    print ('--------------------------------------------------------------')\n",
    "    print ('')\n",
    "\n",
    "import time"
   ]
  },
  {
   "cell_type": "code",
   "execution_count": 4,
   "id": "930f3491",
   "metadata": {},
   "outputs": [
    {
     "name": "stdout",
     "output_type": "stream",
     "text": [
      "Program started\n"
     ]
    },
    {
     "ename": "NameError",
     "evalue": "name 'sim' is not defined",
     "output_type": "error",
     "traceback": [
      "\u001b[1;31m---------------------------------------------------------------------------\u001b[0m",
      "\u001b[1;31mNameError\u001b[0m                                 Traceback (most recent call last)",
      "Cell \u001b[1;32mIn[4], line 8\u001b[0m\n\u001b[0;32m      1\u001b[0m \u001b[38;5;66;03m####################################################################################\u001b[39;00m\n\u001b[0;32m      2\u001b[0m \u001b[38;5;66;03m#                                                                                  #\u001b[39;00m\n\u001b[0;32m      3\u001b[0m \u001b[38;5;66;03m#                 LEMBRE-SE QUE A SIMULAÇÃO DEVE ESTAR EM EXECUÇÃO!                #\u001b[39;00m\n\u001b[0;32m      4\u001b[0m \u001b[38;5;66;03m#                                                                                  #\u001b[39;00m\n\u001b[0;32m      5\u001b[0m \u001b[38;5;66;03m####################################################################################\u001b[39;00m\n\u001b[0;32m      7\u001b[0m \u001b[38;5;28mprint\u001b[39m (\u001b[38;5;124m'\u001b[39m\u001b[38;5;124mProgram started\u001b[39m\u001b[38;5;124m'\u001b[39m)\n\u001b[1;32m----> 8\u001b[0m sim\u001b[38;5;241m.\u001b[39msimxFinish(\u001b[38;5;241m-\u001b[39m\u001b[38;5;241m1\u001b[39m) \u001b[38;5;66;03m# just in case, close all opened connections\u001b[39;00m\n\u001b[0;32m      9\u001b[0m clientID\u001b[38;5;241m=\u001b[39msim\u001b[38;5;241m.\u001b[39msimxStart(\u001b[38;5;124m'\u001b[39m\u001b[38;5;124m127.0.0.1\u001b[39m\u001b[38;5;124m'\u001b[39m,\u001b[38;5;241m19999\u001b[39m,\u001b[38;5;28;01mTrue\u001b[39;00m,\u001b[38;5;28;01mTrue\u001b[39;00m,\u001b[38;5;241m5000\u001b[39m,\u001b[38;5;241m5\u001b[39m) \u001b[38;5;66;03m# Connect to CoppeliaSim\u001b[39;00m\n\u001b[0;32m     10\u001b[0m \u001b[38;5;66;03m#clientID=sim.simxStart('127.0.0.1',19997,True,True,5000,5) # Connect to CoppeliaSim\u001b[39;00m\n",
      "\u001b[1;31mNameError\u001b[0m: name 'sim' is not defined"
     ]
    }
   ],
   "source": [
    "####################################################################################\n",
    "#                                                                                  #\n",
    "#                 LEMBRE-SE QUE A SIMULAÇÃO DEVE ESTAR EM EXECUÇÃO!                #\n",
    "#                                                                                  #\n",
    "####################################################################################\n",
    "\n",
    "print ('Program started')\n",
    "sim.simxFinish(-1) # just in case, close all opened connections\n",
    "clientID=sim.simxStart('127.0.0.1',19999,True,True,5000,5) # Connect to CoppeliaSim\n",
    "#clientID=sim.simxStart('127.0.0.1',19997,True,True,5000,5) # Connect to CoppeliaSim\n",
    "\n",
    "if clientID!=-1:\n",
    "    print ('Connected to remote API server')\n",
    "\n",
    "    # Now close the connection to CoppeliaSim:\n",
    "    sim.simxFinish(clientID)\n",
    "    \n",
    "else:\n",
    "    print ('Failed connecting to remote API server')\n",
    "    \n",
    "print ('Program ended')"
   ]
  },
  {
   "cell_type": "code",
   "execution_count": null,
   "id": "80fca2be",
   "metadata": {},
   "outputs": [],
   "source": []
  },
  {
   "cell_type": "code",
   "execution_count": null,
   "id": "d94906ee",
   "metadata": {},
   "outputs": [],
   "source": []
  }
 ],
 "metadata": {
  "kernelspec": {
   "display_name": "Python 3 (ipykernel)",
   "language": "python",
   "name": "python3"
  },
  "language_info": {
   "codemirror_mode": {
    "name": "ipython",
    "version": 3
   },
   "file_extension": ".py",
   "mimetype": "text/x-python",
   "name": "python",
   "nbconvert_exporter": "python",
   "pygments_lexer": "ipython3",
   "version": "3.11.5"
  }
 },
 "nbformat": 4,
 "nbformat_minor": 5
}
