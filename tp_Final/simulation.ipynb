{
 "cells": [
  {
   "cell_type": "markdown",
   "metadata": {},
   "source": [
    "# Trabalho Prático Final - Tethered Drone Light Show\n",
    "Seguindo a sugestão de temas como sistemas de multi-robôs será abordadas técnicas para realizar um espetáculo de luzes com três drones alimentados a fio.\n"
   ]
  },
  {
   "cell_type": "code",
   "execution_count": 5,
   "metadata": {},
   "outputs": [
    {
     "name": "stdout",
     "output_type": "stream",
     "text": [
      "Defaulting to user installation because normal site-packages is not writeable\n",
      "Requirement already satisfied: coppeliasim-zmqremoteapi-client in /home/felippeveloso/.local/lib/python3.10/site-packages (2.0.4)\n",
      "Requirement already satisfied: cbor in /home/felippeveloso/.local/lib/python3.10/site-packages (from coppeliasim-zmqremoteapi-client) (1.0.0)\n",
      "Requirement already satisfied: pyzmq in /home/felippeveloso/.local/lib/python3.10/site-packages (from coppeliasim-zmqremoteapi-client) (26.0.3)\n",
      "Note: you may need to restart the kernel to use updated packages.\n"
     ]
    }
   ],
   "source": [
    "pip install coppeliasim-zmqremoteapi-client"
   ]
  },
  {
   "cell_type": "markdown",
   "metadata": {},
   "source": [
    "## Importando as bibliotecas"
   ]
  },
  {
   "cell_type": "code",
   "execution_count": 1,
   "metadata": {},
   "outputs": [],
   "source": [
    "import numpy as np\n",
    "import time\n",
    "from coppeliasim_zmqremoteapi_client import *"
   ]
  },
  {
   "cell_type": "markdown",
   "metadata": {},
   "source": [
    "\n",
    "## Remote API functions (Python)\n",
    "\n",
    "Criação do cliente para conexão com a api remota\n",
    "\n",
    "Link para repositório da SimZMQRemoteApi: https://github.com/CoppeliaRobotics/zmqRemoteApi/tree/master/clients/python\n"
   ]
  },
  {
   "cell_type": "code",
   "execution_count": 2,
   "metadata": {},
   "outputs": [
    {
     "name": "stdout",
     "output_type": "stream",
     "text": [
      "Printando o drone 1 e 2: 16 e 117\n"
     ]
    }
   ],
   "source": [
    "# create a client to connect to zmqRemoteApi server:\n",
    "# (creation arguments can specify different host/port,\n",
    "# defaults are host='localhost', port=23000)\n",
    "client = RemoteAPIClient()\n",
    "\n",
    "# get a remote object:\n",
    "sim = client.require('sim')\n",
    "\n",
    "# call API function fo test:\n",
    "Drone1 = sim.getObject('/Quadricopter[0]')\n",
    "Drone2 = sim.getObject('/Quadricopter[3]/Quadricopter_base/Quadricopter_target')\n",
    "Cylinder = sim.getObject('/Cylinder')\n",
    "print(\"Printando o drone 1 e 2: \" + str(Drone1) + \" e \" + str(Drone2))\n",
    "\n"
   ]
  },
  {
   "cell_type": "code",
   "execution_count": 3,
   "metadata": {},
   "outputs": [],
   "source": [
    "class DroneController:\n",
    "    def __init__(self, drone_names):\n",
    "        self.client = RemoteAPIClient()\n",
    "        self.sim = self.client.getObject('sim')\n",
    "        self.drones = [self.sim.getObject(drone) for drone in drone_names]\n",
    "\n",
    "    def start_simulation(self):\n",
    "        self.sim.startSimulation()\n",
    "\n",
    "    def stop_simulation(self):\n",
    "        self.sim.stopSimulation()\n",
    "\n",
    "    def set_drone_position(self, drone, position):\n",
    "        self.sim.setObjectPosition(drone, -1, position)\n",
    "\n",
    "    def get_drone_position(self, drone):\n",
    "        return self.sim.getObjectPosition(drone, -1)\n"
   ]
  },
  {
   "cell_type": "code",
   "execution_count": 4,
   "metadata": {},
   "outputs": [],
   "source": [
    "if __name__ == \"__main__\":\n",
    "    #drone_names = [\"/Quadricopter[0]/Quadricopter_base/Quadricopter_target\", \"/Quadricopter[1]/Quadricopter_base/Quadricopter_target\", \"/Quadricopter[2]/Quadricopter_base/Quadricopter_target\", \"/Quadricopter[3]/Quadricopter_base/Quadricopter_target\", \"/Quadricopter[4]/Quadricopter_base/Quadricopter_target\", \"/Quadricopter[5]/Quadricopter_base/Quadricopter_target\"]\n",
    "    drone_names = [\"/Quadricopter[0]\", \"/Quadricopter[1]\", \"/Quadricopter[2]\", \"/Quadricopter[3]\", \"/Quadricopter[4]\", \"/Quadricopter[5]\"]\n",
    "    controller = DroneController(drone_names)\n",
    "\n",
    "    controller.start_simulation()\n",
    "    time.sleep(2)\n",
    "\n",
    "    try:\n",
    "        for i in range(100):\n",
    "            for j, drone in enumerate(controller.drones):\n",
    "                x = 5 * np.sin(i / 10.0 + j * np.pi / 2)\n",
    "                y = 5 * np.cos(i / 10.0 + j * np.pi / 2)\n",
    "                z = 2 + 0.5 * np.sin(i / 10.0)\n",
    "                controller.set_drone_position(drone, [x, y, z])\n",
    "            time.sleep(0.1)\n",
    "    except KeyboardInterrupt:\n",
    "        pass\n",
    "\n",
    "    controller.stop_simulation()"
   ]
  },
  {
   "cell_type": "code",
   "execution_count": 5,
   "metadata": {},
   "outputs": [],
   "source": [
    "# # #\n",
    "# #\n",
    "#\n",
    "if __name__ == \"__main__\":\n",
    "    drone_names = [\"/Quadricopter[0]\", \"/Quadricopter[1]\", \"/Quadricopter[2]\", \"/Quadricopter[3]\", \"/Quadricopter[4]\", \"/Quadricopter[5]\"]\n",
    "    controller = DroneController(drone_names)\n",
    "\n",
    "    controller.start_simulation()\n",
    "    time.sleep(2)\n",
    "\n",
    "    try:\n",
    "        for i in range(200):\n",
    "            # Colocando drones na coluna principal da letra \"F\"\n",
    "            for j in range(4):\n",
    "                drone = controller.drones[j]\n",
    "                x = 0\n",
    "                y = j * 2  # Incrementa o valor de y para espaçar verticalmente os drones\n",
    "                z = 10\n",
    "                controller.set_drone_position(drone, [x, y, z])\n",
    "            \n",
    "            # Colocando drones na barra superior da letra \"F\"\n",
    "            for j in range(2):\n",
    "                drone = controller.drones[4 + j]\n",
    "                x = (j + 1) * 2  # Incrementa o valor de x para espaçar horizontalmente os drones\n",
    "                y = 0\n",
    "                z = 10\n",
    "                controller.set_drone_position(drone, [x, y, z])\n",
    "\n",
    "            time.sleep(0.1)\n",
    "    except KeyboardInterrupt:\n",
    "        pass\n",
    "\n",
    "    controller.stop_simulation()\n",
    "\n"
   ]
  }
 ],
 "metadata": {
  "kernelspec": {
   "display_name": "Python 3",
   "language": "python",
   "name": "python3"
  },
  "language_info": {
   "codemirror_mode": {
    "name": "ipython",
    "version": 3
   },
   "file_extension": ".py",
   "mimetype": "text/x-python",
   "name": "python",
   "nbconvert_exporter": "python",
   "pygments_lexer": "ipython3",
   "version": "3.11.9"
  }
 },
 "nbformat": 4,
 "nbformat_minor": 2
}
